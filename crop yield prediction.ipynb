{
 "cells": [
  {
   "cell_type": "code",
   "execution_count": 15,
   "id": "5f7a0881-bd20-451a-9ef3-81e6397d7172",
   "metadata": {},
   "outputs": [
    {
     "name": "stdout",
     "output_type": "stream",
     "text": [
      "✅ Basic Cleaning Done! Saved as cleaned_crop_data.csv\n"
     ]
    }
   ],
   "source": [
    "import pandas as pd\n",
    "\n",
    "# Load dataset\n",
    "df = pd.read_csv(\"Crop Yiled with Soil and Weather.csv\")\n",
    "\n",
    "# Rename columns for consistency\n",
    "df.rename(columns={'temp': 'Temp', 'yeild': 'Yield'}, inplace=True)\n",
    "\n",
    "# Remove duplicates\n",
    "df.drop_duplicates(inplace=True)\n",
    "\n",
    "# Save cleaned dataset\n",
    "df.to_csv(\"cleaned_crop_data.csv\", index=False)\n",
    "print(\"✅ Basic Cleaning Done! Saved as cleaned_crop_data.csv\")\n"
   ]
  },
  {
   "cell_type": "code",
   "execution_count": 17,
   "id": "a7c18a60-e643-47b8-8045-426fbf7f5fa4",
   "metadata": {},
   "outputs": [
    {
     "name": "stdout",
     "output_type": "stream",
     "text": [
      "Feature Sample:\n",
      "    Fertilizer  Temp     N     P     K\n",
      "0        80.0  28.0  80.0  24.0  20.0\n",
      "1        77.0  27.0  78.0  23.0  20.0\n",
      "2        80.0  26.0  80.0  24.0  20.0\n",
      "3        78.0  27.0  78.0  23.0  19.0\n",
      "4        75.0  26.0  75.0  22.0  19.0\n",
      "\n",
      "Target Sample:\n",
      " 0    12.0\n",
      "1    12.0\n",
      "2    12.0\n",
      "3    12.0\n",
      "4    12.0\n",
      "Name: Yield, dtype: float64\n"
     ]
    }
   ],
   "source": [
    "# Load cleaned dataset\n",
    "df = pd.read_csv(\"cleaned_crop_data.csv\")\n",
    "\n",
    "# Features and Target\n",
    "X = df[['Fertilizer', 'Temp', 'N', 'P', 'K']]\n",
    "y = df['Yield']\n",
    "\n",
    "print(\"Feature Sample:\\n\", X.head())\n",
    "print(\"\\nTarget Sample:\\n\", y.head())\n",
    "\n"
   ]
  },
  {
   "cell_type": "code",
   "execution_count": 19,
   "id": "57fb7980-a076-4530-aea5-bc308d7c2fb2",
   "metadata": {},
   "outputs": [
    {
     "name": "stdout",
     "output_type": "stream",
     "text": [
      "Scaled Features (first 5 rows):\n",
      " [[ 1.3875238  -1.09082698  1.54089558  1.67118928  1.13166179]\n",
      " [ 1.07951284 -1.27709884  1.24679627  1.1637588   1.13166179]\n",
      " [ 1.3875238  -1.46337071  1.54089558  1.67118928  1.13166179]\n",
      " [ 1.18218316 -1.27709884  1.24679627  1.1637588   0.61635745]\n",
      " [ 0.87417219 -1.46337071  0.8056473   0.65632832  0.61635745]]\n"
     ]
    }
   ],
   "source": [
    "from sklearn.preprocessing import StandardScaler\n",
    "\n",
    "scaler = StandardScaler()\n",
    "X_scaled = scaler.fit_transform(X)\n",
    "\n",
    "print(\"Scaled Features (first 5 rows):\\n\", X_scaled[:5])\n",
    "\n"
   ]
  },
  {
   "cell_type": "code",
   "execution_count": null,
   "id": "ec4acd32-138c-4527-a8b8-bc2c881de590",
   "metadata": {},
   "outputs": [],
   "source": []
  }
 ],
 "metadata": {
  "kernelspec": {
   "display_name": "Python [conda env:base] *",
   "language": "python",
   "name": "conda-base-py"
  },
  "language_info": {
   "codemirror_mode": {
    "name": "ipython",
    "version": 3
   },
   "file_extension": ".py",
   "mimetype": "text/x-python",
   "name": "python",
   "nbconvert_exporter": "python",
   "pygments_lexer": "ipython3",
   "version": "3.12.7"
  }
 },
 "nbformat": 4,
 "nbformat_minor": 5
}
